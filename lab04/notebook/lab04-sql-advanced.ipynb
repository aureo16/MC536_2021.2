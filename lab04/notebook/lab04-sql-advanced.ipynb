{
 "cells": [
  {
   "cell_type": "code",
   "execution_count": 1,
   "metadata": {},
   "outputs": [],
   "source": [
    "%defaultDatasource jdbc:h2:mem:db"
   ]
  },
  {
   "cell_type": "markdown",
   "metadata": {},
   "source": [
    "# Analisando o Uso de Medicamentos\n",
    "* Esta tarefa analisará os dados conforme três abordagens: análise do comportamento estatístico; análise de correlação entre pares; análise de correlação de variáveis.\n",
    "* A partir dos arquivos CSV que estão no diretórios /data/nhanes considere as seguintes tabelas SQL."
   ]
  },
  {
   "cell_type": "code",
   "execution_count": 2,
   "metadata": {},
   "outputs": [],
   "source": [
    "DROP Table IF EXISTS Person;\n",
    "DROP Table IF EXISTS Drug;\n",
    "DROP Table IF EXISTS DrugUse;"
   ]
  },
  {
   "cell_type": "code",
   "execution_count": 3,
   "metadata": {},
   "outputs": [],
   "source": [
    "CREATE TABLE Person (\n",
    "  Id VARCHAR(5) NOT NULL,\n",
    "  Gender INTEGER,\n",
    "  Age INTEGER,\n",
    "  PRIMARY KEY(Id)\n",
    ") AS SELECT\n",
    "    id,\n",
    "    gender,\n",
    "    age\n",
    "FROM CSVREAD('../data/demographic-person.csv');\n",
    "\n",
    "CREATE TABLE Drug (\n",
    "  Code VARCHAR(6) NOT NULL,\n",
    "  Name VARCHAR(100) NOT NULL,\n",
    "  PRIMARY KEY(Code)\n",
    ") AS SELECT\n",
    "    code,\n",
    "    name\n",
    "FROM CSVREAD('../data/medications-drug.csv');\n",
    "\n",
    "CREATE TABLE DrugUse (\n",
    "  PersonId VARCHAR(5) NOT NULL,\n",
    "  DrugCode VARCHAR(6) NOT NULL,\n",
    "  DaysUse INTEGER,\n",
    "  FOREIGN KEY(PersonId)\n",
    "    REFERENCES Person(Id)\n",
    "      ON DELETE NO ACTION\n",
    "      ON UPDATE NO ACTION,\n",
    "  FOREIGN KEY(DrugCode)\n",
    "    REFERENCES Drug(Code)\n",
    "      ON DELETE NO ACTION\n",
    "      ON UPDATE NO ACTION\n",
    ") AS SELECT\n",
    "    person_id,\n",
    "    drug_code,\n",
    "    days_use\n",
    "FROM CSVREAD('../data/medications-use.csv');"
   ]
  },
  {
   "cell_type": "code",
   "execution_count": 4,
   "metadata": {},
   "outputs": [
    {
     "data": {
      "application/vnd.jupyter.widget-view+json": {
       "model_id": "87044df3-1bef-4550-bb36-5f2bd30d606b",
       "version_major": 2,
       "version_minor": 0
      },
      "method": "display_data"
     },
     "metadata": {},
     "output_type": "display_data"
    },
    {
     "data": {
      "application/vnd.jupyter.widget-view+json": {
       "model_id": "8fc20cd0-bce8-4d28-a236-71917901c165",
       "version_major": 2,
       "version_minor": 0
      },
      "method": "display_data"
     },
     "metadata": {},
     "output_type": "display_data"
    },
    {
     "data": {
      "application/vnd.jupyter.widget-view+json": {
       "model_id": "54fa2626-4245-4a89-8b22-8884f1cf7f86",
       "version_major": 2,
       "version_minor": 0
      },
      "method": "display_data"
     },
     "metadata": {},
     "output_type": "display_data"
    }
   ],
   "source": [
    "SELECT * FROM Person;\n",
    "SELECT * FROM Drug;\n",
    "SELECT * FROM DrugUse"
   ]
  },
  {
   "cell_type": "markdown",
   "metadata": {},
   "source": [
    "# I. Análise de comportamento estatístico"
   ]
  },
  {
   "cell_type": "markdown",
   "metadata": {},
   "source": [
    "## 1) Contabilizando o uso de medicamentos\n",
    "\n",
    "* Liste o nome de todos os medicamentos e a quantidade de pessoas que usa cada um deles."
   ]
  },
  {
   "cell_type": "code",
   "execution_count": 5,
   "metadata": {},
   "outputs": [
    {
     "data": {
      "application/vnd.jupyter.widget-view+json": {
       "model_id": "5ac861a0-7608-403b-a070-fa6c6b0d2d46",
       "version_major": 2,
       "version_minor": 0
      },
      "method": "display_data"
     },
     "metadata": {},
     "output_type": "display_data"
    }
   ],
   "source": [
    "SELECT D.NAME, COUNT(*) NUM_PESSOAS\n",
    "    FROM PERSON P, DRUG D, DRUGUSE U\n",
    "    WHERE P.ID = U.PERSONID AND D.CODE=U.DRUGCODE\n",
    "    GROUP BY D.CODE"
   ]
  },
  {
   "cell_type": "markdown",
   "metadata": {},
   "source": [
    "## 2) Medicamento mais usado com VIEW\n",
    "\n",
    "* Informe o código do medicamento mais usado: fazendo uso de VIEW."
   ]
  },
  {
   "cell_type": "code",
   "execution_count": 6,
   "metadata": {},
   "outputs": [
    {
     "data": {
      "text/plain": [
       "d00732"
      ]
     },
     "execution_count": 6,
     "metadata": {},
     "output_type": "execute_result"
    }
   ],
   "source": [
    "DROP TABLE IF EXISTS CONTAGEM_USO;\n",
    "\n",
    "CREATE VIEW CONTAGEM_USO AS\n",
    "SELECT D.CODE CODE, COUNT(*) NUM_PESSOAS\n",
    "    FROM PERSON P, DRUG D, DRUGUSE U\n",
    "    WHERE P.ID = U.PERSONID AND D.CODE=U.DRUGCODE\n",
    "    GROUP BY D.CODE;\n",
    "    \n",
    "SELECT CODE \n",
    "    FROM CONTAGEM_USO\n",
    "    WHERE NUM_PESSOAS = (SELECT MAX(NUM_PESSOAS) FROM CONTAGEM_USO)"
   ]
  },
  {
   "cell_type": "markdown",
   "metadata": {},
   "source": [
    "## 3) Medicamento mais usado sem VIEW\n",
    "\n",
    "* Informe o código do medicamento mais usado: sem fazer uso de VIEW."
   ]
  },
  {
   "cell_type": "code",
   "execution_count": 7,
   "metadata": {},
   "outputs": [
    {
     "data": {
      "text/plain": [
       "d00732"
      ]
     },
     "execution_count": 7,
     "metadata": {},
     "output_type": "execute_result"
    }
   ],
   "source": [
    "SELECT CODE \n",
    "    FROM (SELECT D.CODE CODE, COUNT(*) NUM_PESSOAS\n",
    "        FROM PERSON P, DRUG D, DRUGUSE U\n",
    "        WHERE P.ID = U.PERSONID AND D.CODE=U.DRUGCODE\n",
    "        GROUP BY D.CODE\n",
    "        ORDER BY NUM_PESSOAS DESC)\n",
    "    WHERE ROWNUM=1"
   ]
  },
  {
   "cell_type": "markdown",
   "metadata": {},
   "source": [
    "## 4) Nome do medicamento mais usado\n",
    "* Informe o nome do medicamento mais usado (uso de VIEW é opcional)."
   ]
  },
  {
   "cell_type": "code",
   "execution_count": 8,
   "metadata": {},
   "outputs": [
    {
     "data": {
      "text/plain": [
       "LISINOPRIL"
      ]
     },
     "execution_count": 8,
     "metadata": {},
     "output_type": "execute_result"
    }
   ],
   "source": [
    "SELECT NAME \n",
    "    FROM (SELECT D.NAME NAME, COUNT(*) NUM_PESSOAS\n",
    "        FROM PERSON P, DRUG D, DRUGUSE U\n",
    "        WHERE P.ID = U.PERSONID AND D.CODE=U.DRUGCODE\n",
    "        GROUP BY D.CODE\n",
    "        ORDER BY NUM_PESSOAS DESC)\n",
    "    WHERE ROWNUM=1"
   ]
  },
  {
   "cell_type": "markdown",
   "metadata": {},
   "source": [
    "## 5) Contabilizando quanto as pessoas usam de medicamento\n",
    "\n",
    "* Informe o número médio de uso de medicamento por pessoa."
   ]
  },
  {
   "cell_type": "code",
   "execution_count": 9,
   "metadata": {},
   "outputs": [
    {
     "data": {
      "text/plain": [
       "3"
      ]
     },
     "execution_count": 9,
     "metadata": {},
     "output_type": "execute_result"
    }
   ],
   "source": [
    "DROP TABLE IF EXISTS MEDICAMENTO_POR_PESSOA;\n",
    "\n",
    "CREATE VIEW MEDICAMENTO_POR_PESSOA AS\n",
    "SELECT P.ID, COUNT(*) NUM_MEDICAMENTOS\n",
    "    FROM PERSON P, DRUG D, DRUGUSE U\n",
    "    WHERE P.ID = U.PERSONID AND D.CODE=U.DRUGCODE\n",
    "    GROUP BY P.ID;\n",
    "    \n",
    "SELECT AVG(NUM_MEDICAMENTOS) FROM MEDICAMENTO_POR_PESSOA"
   ]
  },
  {
   "cell_type": "markdown",
   "metadata": {},
   "source": [
    "## 6) Pessoas que usam mais do que a média\n",
    "\n",
    "* Liste o id das pessoas que usam mais medicamentos do que a média."
   ]
  },
  {
   "cell_type": "code",
   "execution_count": 10,
   "metadata": {},
   "outputs": [
    {
     "data": {
      "application/vnd.jupyter.widget-view+json": {
       "model_id": "daf114d6-94dc-4e58-922a-2cf9340d421b",
       "version_major": 2,
       "version_minor": 0
      },
      "method": "display_data"
     },
     "metadata": {},
     "output_type": "display_data"
    }
   ],
   "source": [
    "DROP TABLE IF EXISTS MEDICAMENTO_POR_PESSOA;\n",
    "\n",
    "CREATE VIEW MEDICAMENTO_POR_PESSOA AS\n",
    "SELECT P.ID ID, COUNT(*) NUM_MEDICAMENTOS\n",
    "    FROM PERSON P, DRUG D, DRUGUSE U\n",
    "    WHERE P.ID = U.PERSONID AND D.CODE=U.DRUGCODE\n",
    "    GROUP BY P.ID;\n",
    "    \n",
    "SELECT ID, NUM_MEDICAMENTOS \n",
    "    FROM MEDICAMENTO_POR_PESSOA\n",
    "    WHERE NUM_MEDICAMENTOS > (SELECT AVG(NUM_MEDICAMENTOS) FROM MEDICAMENTO_POR_PESSOA)"
   ]
  },
  {
   "cell_type": "markdown",
   "metadata": {},
   "source": [
    "## 7) Análise do uso de medicamento\n",
    "\n",
    "* Considere que um médico quer fazer responder a seguinte questão: pessoas tendem a usar mais medicamentos conforme ficam mais velhas?\n",
    "* Escreva uma query que ajude o médico a realizar esta análise."
   ]
  },
  {
   "cell_type": "code",
   "execution_count": 11,
   "metadata": {},
   "outputs": [
    {
     "data": {
      "application/vnd.jupyter.widget-view+json": {
       "model_id": "b4b5a367-6ed4-4a35-95f1-cd0934f7b24d",
       "version_major": 2,
       "version_minor": 0
      },
      "method": "display_data"
     },
     "metadata": {},
     "output_type": "display_data"
    }
   ],
   "source": [
    "DROP TABLE IF EXISTS USO_ACIMA_DA_MEDIA;\n",
    "DROP TABLE IF EXISTS MEDICAMENTO_POR_PESSOA;\n",
    "\n",
    "CREATE VIEW MEDICAMENTO_POR_PESSOA AS\n",
    "SELECT P.ID ID, P.AGE AGE, COUNT(*) NUM_MEDICAMENTOS\n",
    "    FROM PERSON P, DRUG D, DRUGUSE U\n",
    "    WHERE P.ID = U.PERSONID AND D.CODE=U.DRUGCODE\n",
    "    GROUP BY P.ID;\n",
    "    \n",
    "SELECT AGE, AVG(NUM_MEDICAMENTOS) MEDIA_POR_IDADE\n",
    "    FROM MEDICAMENTO_POR_PESSOA\n",
    "    GROUP BY AGE"
   ]
  },
  {
   "cell_type": "markdown",
   "metadata": {},
   "source": [
    "# Navegando por Hierarquias\n",
    "\n",
    "A seguir exercícios envolvendo navegação por hierarquias."
   ]
  },
  {
   "cell_type": "markdown",
   "metadata": {},
   "source": [
    "# Marcadores e Taxonomia\n",
    "\n",
    "Considere o modelo para `Marcadores` e `Taxonomia`:\n",
    "\n",
    "![UML](marcadores-taxonomia-uml.png)\n",
    "\n",
    "![Relacional](marcadores-taxonomia-er.png)\n",
    "\n",
    "Considere as sentenças SQL a seguir para montar as tabelas de `Marcadores` e `Taxonomia`:"
   ]
  },
  {
   "cell_type": "code",
   "execution_count": 12,
   "metadata": {},
   "outputs": [],
   "source": [
    "DROP TABLE IF EXISTS Taxonomia;\n",
    "DROP TABLE IF EXISTS Marcadores;\n",
    "\n",
    "CREATE TABLE Taxonomia (\n",
    "  Categoria VARCHAR(50) NOT NULL,\n",
    "  Superior  VARCHAR(50),\n",
    "  PRIMARY KEY(Categoria),\n",
    "  FOREIGN KEY(Superior)\n",
    "    REFERENCES Taxonomia(Categoria)\n",
    "      ON DELETE NO ACTION\n",
    "      ON UPDATE CASCADE\n",
    ");\n",
    "\n",
    "CREATE TABLE Marcadores (\n",
    "  Titulo VARCHAR(50) NOT NULL,\n",
    "  Endereco VARCHAR(80) NOT NULL,\n",
    "  Acessos INTEGER,\n",
    "  Categoria VARCHAR(50) NOT NULL,\n",
    "  PRIMARY KEY(Titulo),\n",
    "  FOREIGN KEY(Categoria)\n",
    "    REFERENCES Taxonomia(Categoria)\n",
    "      ON DELETE NO ACTION\n",
    "      ON UPDATE CASCADE\n",
    ");"
   ]
  },
  {
   "cell_type": "markdown",
   "metadata": {},
   "source": [
    "As tabelas são preenchidas com as seguintes tuplas:"
   ]
  },
  {
   "cell_type": "code",
   "execution_count": 13,
   "metadata": {},
   "outputs": [],
   "source": [
    "INSERT INTO Taxonomia VALUES ('Geral', NULL);\n",
    "INSERT INTO Taxonomia VALUES ('Serviços', 'Geral');\n",
    "INSERT INTO Taxonomia VALUES ('Acadêmico', 'Geral');\n",
    "INSERT INTO Taxonomia VALUES ('Relacionamento', 'Geral');\n",
    "INSERT INTO Taxonomia VALUES ('Busca', 'Serviços');\n",
    "INSERT INTO Taxonomia VALUES ('Portal', 'Serviços');\n",
    "INSERT INTO Taxonomia VALUES ('Mail', 'Serviços');\n",
    "INSERT INTO Taxonomia VALUES ('Vendas', 'Serviços');\n",
    "INSERT INTO Taxonomia VALUES ('Universidade', 'Acadêmico');\n",
    "INSERT INTO Taxonomia VALUES ('CG', 'Acadêmico');\n",
    "INSERT INTO Taxonomia VALUES ('Sociedade', 'Acadêmico');\n",
    "INSERT INTO Taxonomia VALUES ('Rede Social', 'Relacionamento');\n",
    "INSERT INTO Taxonomia VALUES ('Marketplace', 'Vendas');\n",
    "INSERT INTO Taxonomia VALUES ('Loja', 'Vendas');\n",
    "INSERT INTO Taxonomia VALUES ('Notícias', 'Portal');\n",
    "INSERT INTO Taxonomia VALUES ('Agregador', 'Portal');\n",
    "\n",
    "INSERT INTO Marcadores VALUES ('Terra', 'http://www.terra.com.br', 295, 'Portal');\n",
    "INSERT INTO Marcadores VALUES ('POVRay', 'http://www.povray.org', 2, 'CG');\n",
    "INSERT INTO Marcadores VALUES ('SBC', 'http://www.sbc.org.br', 26, 'Sociedade');\n",
    "INSERT INTO Marcadores VALUES ('Correios', 'http://www.correios.com.br', 45, 'Serviços');\n",
    "INSERT INTO Marcadores VALUES ('GMail', 'http://www.gmail.com', 296, 'Mail');\n",
    "INSERT INTO Marcadores VALUES ('Google', 'http://www.google.com', 1590, 'Busca');\n",
    "INSERT INTO Marcadores VALUES ('Yahoo', 'http://www.yahoo.com', 134, 'Serviços');\n",
    "INSERT INTO Marcadores VALUES ('Orkut', 'http://www.orkut.com', 45, 'Rede Social');\n",
    "INSERT INTO Marcadores VALUES ('iBahia', 'http://www.ibahia.com', 3, 'Portal');\n",
    "INSERT INTO Marcadores VALUES ('Submarino', 'http://www.submarino.com.br', 320, 'Loja');\n",
    "INSERT INTO Marcadores VALUES ('Amazon', 'https://www.amazon.com.br', 410, 'Marketplace');\n",
    "INSERT INTO Marcadores VALUES ('Americanas', 'https://www.americanas.com.br', 320, 'Loja');\n",
    "INSERT INTO Marcadores VALUES ('Mercado Livre', 'https://www.mercadolivre.com.br', 500, 'Marketplace');\n",
    "INSERT INTO Marcadores VALUES ('G1', 'https://g1.globo.com', 1200, 'Notícias');\n",
    "INSERT INTO Marcadores VALUES ('Folha', 'https://www.folha.uol.com.br', 850, 'Notícias');\n",
    "INSERT INTO Marcadores VALUES ('Google News', 'https://news.google.com', 900, 'Agregador');\n",
    "INSERT INTO Marcadores VALUES ('Flipboard', 'https://flipboard.com', 950, 'Agregador');"
   ]
  },
  {
   "cell_type": "markdown",
   "metadata": {},
   "source": [
    "Conteúdo da tabela `Taxonomia`:"
   ]
  },
  {
   "cell_type": "code",
   "execution_count": 14,
   "metadata": {},
   "outputs": [
    {
     "data": {
      "application/vnd.jupyter.widget-view+json": {
       "model_id": "3630121d-b85d-4345-8456-3f57574561c9",
       "version_major": 2,
       "version_minor": 0
      },
      "method": "display_data"
     },
     "metadata": {},
     "output_type": "display_data"
    }
   ],
   "source": [
    "SELECT * FROM Taxonomia;"
   ]
  },
  {
   "cell_type": "markdown",
   "metadata": {},
   "source": [
    "Conteúdo da tabela `Marcadores`:"
   ]
  },
  {
   "cell_type": "code",
   "execution_count": 15,
   "metadata": {},
   "outputs": [
    {
     "data": {
      "application/vnd.jupyter.widget-view+json": {
       "model_id": "b76cbc3b-1cb1-43bd-8662-f2e878031543",
       "version_major": 2,
       "version_minor": 0
      },
      "method": "display_data"
     },
     "metadata": {},
     "output_type": "display_data"
    }
   ],
   "source": [
    "SELECT * FROM Marcadores;"
   ]
  },
  {
   "cell_type": "markdown",
   "metadata": {},
   "source": [
    "## Tarefa 1\n",
    "\n",
    "Escreva em SQL uma consulta que retorne os marcadores da categoria `Serviços`, sem considerar as categorias subordinadas."
   ]
  },
  {
   "cell_type": "code",
   "execution_count": 16,
   "metadata": {},
   "outputs": [
    {
     "data": {
      "application/vnd.jupyter.widget-view+json": {
       "model_id": "5401ea24-04d8-465d-be48-d6a4f7fc699b",
       "version_major": 2,
       "version_minor": 0
      },
      "method": "display_data"
     },
     "metadata": {},
     "output_type": "display_data"
    }
   ],
   "source": [
    "SELECT *\n",
    "    FROM MARCADORES\n",
    "    WHERE CATEGORIA='Serviços'"
   ]
  },
  {
   "cell_type": "markdown",
   "metadata": {},
   "source": [
    "## Tarefa 2\n",
    "\n",
    "Escreva em SQL uma consulta que retorne os marcadores da categoria `Serviços`, considerando as categorias subordinadas."
   ]
  },
  {
   "cell_type": "code",
   "execution_count": 17,
   "metadata": {},
   "outputs": [],
   "source": [
    "DROP TABLE IF EXISTS SUB_SERVICOS3;\n",
    "DROP TABLE IF EXISTS SUB_SERVICOS2;\n",
    "DROP TABLE IF EXISTS SUB_SERVICOS;"
   ]
  },
  {
   "cell_type": "code",
   "execution_count": 18,
   "metadata": {},
   "outputs": [
    {
     "data": {
      "application/vnd.jupyter.widget-view+json": {
       "model_id": "e725d883-c347-4f2b-aa96-7c5f2ca576d1",
       "version_major": 2,
       "version_minor": 0
      },
      "method": "display_data"
     },
     "metadata": {},
     "output_type": "display_data"
    }
   ],
   "source": [
    "/*Vamos construir uma tabela com a categoria 'Serviços' e todas as suas categorias subordinadas de primeiro grau*/\n",
    "DROP TABLE IF EXISTS SUB_SERVICOS;\n",
    "\n",
    "CREATE VIEW SUB_SERVICOS AS\n",
    "SELECT CATEGORIA CAT1\n",
    "    FROM TAXONOMIA\n",
    "    WHERE CATEGORIA='Serviços' OR SUPERIOR='Serviços';\n",
    "    \n",
    "SELECT * FROM SUB_SERVICOS"
   ]
  },
  {
   "cell_type": "code",
   "execution_count": 19,
   "metadata": {},
   "outputs": [
    {
     "data": {
      "application/vnd.jupyter.widget-view+json": {
       "model_id": "72e84d03-6e66-462c-89d4-5cae7f327030",
       "version_major": 2,
       "version_minor": 0
      },
      "method": "display_data"
     },
     "metadata": {},
     "output_type": "display_data"
    }
   ],
   "source": [
    "/*Fazemos agora uma segunda tabela com subordinações de segundo grau, além das que já existem*/\n",
    "DROP TABLE IF EXISTS SUB_SERVICOS2;\n",
    "\n",
    "CREATE VIEW SUB_SERVICOS2 AS\n",
    "SELECT DISTINCT T.CATEGORIA CAT2\n",
    "    FROM TAXONOMIA T, SUB_SERVICOS S1\n",
    "    WHERE T.CATEGORIA IN (S1.CAT1) OR T.SUPERIOR IN (S1.CAT1);\n",
    "    \n",
    "SELECT * FROM SUB_SERVICOS2"
   ]
  },
  {
   "cell_type": "code",
   "execution_count": 20,
   "metadata": {},
   "outputs": [
    {
     "data": {
      "application/vnd.jupyter.widget-view+json": {
       "model_id": "dbd91c30-023f-41d1-a9fa-7fc13bcd5787",
       "version_major": 2,
       "version_minor": 0
      },
      "method": "display_data"
     },
     "metadata": {},
     "output_type": "display_data"
    }
   ],
   "source": [
    "/*Verificamos se surgiram novas categorias*/\n",
    "SELECT DISTINCT *\n",
    "    FROM SUB_SERVICOS2\n",
    "    WHERE CAT2 NOT IN (SELECT * FROM SUB_SERVICOS)"
   ]
  },
  {
   "cell_type": "code",
   "execution_count": 21,
   "metadata": {},
   "outputs": [
    {
     "data": {
      "application/vnd.jupyter.widget-view+json": {
       "model_id": "eb52c5c0-10ee-4e15-820c-604a7b98903b",
       "version_major": 2,
       "version_minor": 0
      },
      "method": "display_data"
     },
     "metadata": {},
     "output_type": "display_data"
    }
   ],
   "source": [
    "/*Como surgiram novas, vamos criar mais uma tabela com mais um grau de subordinação*/\n",
    "DROP TABLE IF EXISTS SUB_SERVICOS3;\n",
    "\n",
    "CREATE VIEW SUB_SERVICOS3 AS\n",
    "SELECT DISTINCT T.CATEGORIA CAT3\n",
    "    FROM TAXONOMIA T, SUB_SERVICOS S2\n",
    "    WHERE T.CATEGORIA IN (S2.CAT1) OR T.SUPERIOR IN (S2.CAT1);\n",
    "    \n",
    "SELECT * FROM SUB_SERVICOS3"
   ]
  },
  {
   "cell_type": "code",
   "execution_count": 22,
   "metadata": {},
   "outputs": [],
   "source": [
    "/*Verificamos novamente se surgiram novas categorias*/\n",
    "SELECT DISTINCT *\n",
    "    FROM SUB_SERVICOS3\n",
    "    WHERE CAT3 NOT IN (SELECT * FROM SUB_SERVICOS2)"
   ]
  },
  {
   "cell_type": "code",
   "execution_count": 23,
   "metadata": {},
   "outputs": [
    {
     "data": {
      "application/vnd.jupyter.widget-view+json": {
       "model_id": "6fd52072-b437-4d8a-9510-c764f5698e65",
       "version_major": 2,
       "version_minor": 0
      },
      "method": "display_data"
     },
     "metadata": {},
     "output_type": "display_data"
    }
   ],
   "source": [
    "/*Como não surgiram novas categorias, então terminaram as classes subordinadas de serviços e utilizamos SUB_SERVICOS3 para fazer a consulta dos marcadores*/\n",
    "SELECT *\n",
    "    FROM MARCADORES\n",
    "    WHERE CATEGORIA IN (SELECT * FROM SUB_SERVICOS3)"
   ]
  },
  {
   "cell_type": "code",
   "execution_count": null,
   "metadata": {},
   "outputs": [],
   "source": []
  }
 ],
 "metadata": {
  "kernelspec": {
   "display_name": "Python 3.6.9 64-bit",
   "metadata": {
    "interpreter": {
     "hash": "31f2aee4e71d21fbe5cf8b01ff0e069b9275f58929596ceb00d14d90e3e16cd6"
    }
   },
   "name": "python3"
  },
  "language_info": {
   "codemirror_mode": "sql",
   "file_extension": ".sql",
   "mimetype": "",
   "name": "SQL",
   "nbconverter_exporter": "",
   "version": "3.6.9"
  },
  "toc": {
   "base_numbering": 1,
   "nav_menu": {},
   "number_sections": false,
   "sideBar": false,
   "skip_h1_title": false,
   "title_cell": "Table of Contents",
   "title_sidebar": "Contents",
   "toc_cell": false,
   "toc_position": {},
   "toc_section_display": false,
   "toc_window_display": false
  }
 },
 "nbformat": 4,
 "nbformat_minor": 4
}